{
 "cells": [
  {
   "cell_type": "code",
   "execution_count": 1,
   "id": "b5f81f57",
   "metadata": {},
   "outputs": [],
   "source": [
    "import rasterio\n",
    "import numpy as np\n",
    "from rasterio.mask import mask\n",
    "import fiona\n",
    "from shapely.geometry import shape"
   ]
  },
  {
   "cell_type": "code",
   "execution_count": 2,
   "id": "0181da0f",
   "metadata": {},
   "outputs": [],
   "source": [
    "def calculate_volume_rasterio(dem_path, shapes, base_level=0):\n",
    "    try:\n",
    "        # Open the DEM file\n",
    "        with rasterio.open(dem_path) as src:\n",
    "            # Mask the DEM using provided polygon geometry (shapes)\n",
    "            out_image, out_transform = mask(src, shapes, crop=True)\n",
    "            out_image = out_image[0]  # Get the first band\n",
    "\n",
    "            # Mask out NoData values\n",
    "            dem_array = np.ma.masked_equal(out_image, src.nodata)\n",
    "\n",
    "            # Calculate pixel area (assuming square pixels)\n",
    "            pixel_size = src.res[0]  # Assuming square pixels\n",
    "            pixel_area = pixel_size ** 2\n",
    "\n",
    "            # Calculate the volume above and below a base level\n",
    "            fill_volume = np.sum(np.maximum(dem_array - base_level, 0)) * pixel_area\n",
    "            cut_volume = np.sum(np.maximum(base_level - dem_array, 0)) * pixel_area\n",
    "            net_volume = fill_volume - cut_volume\n",
    "\n",
    "            return fill_volume, cut_volume, net_volume\n",
    "\n",
    "    except Exception as e:\n",
    "        print(f\"Error in volume calculation: {str(e)}\")\n",
    "        return None"
   ]
  },
  {
   "cell_type": "code",
   "execution_count": 3,
   "id": "f477609b",
   "metadata": {},
   "outputs": [],
   "source": [
    "# Function to read a polygon from a shapefile\n",
    "def get_polygon_from_shapefile(shapefile_path):\n",
    "    with fiona.open(shapefile_path, \"r\") as shapefile:\n",
    "        shapes = [feature[\"geometry\"] for feature in shapefile]  # Get all polygons\n",
    "        return shapes"
   ]
  },
  {
   "cell_type": "code",
   "execution_count": 4,
   "id": "75648945",
   "metadata": {},
   "outputs": [],
   "source": [
    "shapefile_path = \"C:/Users/vaish/Downloads/Aereo1/heap/polygons.shp\"\n",
    "dem_file = \"C:/Users/vaish/Downloads/Aereo1/heap-dem.tif\""
   ]
  },
  {
   "cell_type": "code",
   "execution_count": 5,
   "id": "d790c04a",
   "metadata": {},
   "outputs": [],
   "source": [
    "# Get the polygon geometry from the shapefile\n",
    "polygon_shapes = get_polygon_from_shapefile(shapefile_path)"
   ]
  },
  {
   "cell_type": "code",
   "execution_count": 6,
   "id": "d6c5e748",
   "metadata": {},
   "outputs": [
    {
     "name": "stdout",
     "output_type": "stream",
     "text": [
      "DEM CRS: EPSG:32644\n",
      "Shapefile CRS: EPSG:4326\n"
     ]
    }
   ],
   "source": [
    "# Check CRS of DEM\n",
    "with rasterio.open(dem_file) as dem_src:\n",
    "    print(\"DEM CRS:\", dem_src.crs)\n",
    "\n",
    "# Check CRS of shapefile\n",
    "with fiona.open(shapefile_path, \"r\") as shp:\n",
    "    print(\"Shapefile CRS:\", shp.crs)"
   ]
  },
  {
   "cell_type": "code",
   "execution_count": 7,
   "id": "34bd8b1f",
   "metadata": {},
   "outputs": [],
   "source": [
    "import geopandas as gpd\n",
    "from fiona.crs import from_epsg\n",
    "\n",
    "# Load shapefile as GeoDataFrame\n",
    "shapefile_gdf = gpd.read_file(shapefile_path)\n",
    "\n",
    "# Reproject the shapefile to the DEM's CRS\n",
    "dem_crs = rasterio.open(dem_file).crs\n",
    "shapefile_reprojected = shapefile_gdf.to_crs(dem_crs)\n",
    "\n",
    "# Convert back to GeoJSON-like format (for rasterio)\n",
    "reprojected_shapes = [shape(geom) for geom in shapefile_reprojected.geometry]"
   ]
  },
  {
   "cell_type": "code",
   "execution_count": 8,
   "id": "1187920f",
   "metadata": {},
   "outputs": [
    {
     "name": "stdout",
     "output_type": "stream",
     "text": [
      "Fill Volume: 169220.04217865225 cubic meters\n",
      "Cut Volume: 0.0 cubic meters\n",
      "Net Volume: 169220.04217865225 cubic meters\n"
     ]
    }
   ],
   "source": [
    "# Calculate the volumes\n",
    "fill_volume, cut_volume, net_volume = calculate_volume_rasterio(dem_file, reprojected_shapes)\n",
    "print(f\"Fill Volume: {fill_volume} cubic meters\")\n",
    "print(f\"Cut Volume: {cut_volume} cubic meters\")\n",
    "print(f\"Net Volume: {net_volume} cubic meters\")"
   ]
  },
  {
   "cell_type": "code",
   "execution_count": null,
   "id": "35ed78c9",
   "metadata": {},
   "outputs": [],
   "source": []
  }
 ],
 "metadata": {
  "kernelspec": {
   "display_name": "Python 3 (ipykernel)",
   "language": "python",
   "name": "python3"
  },
  "language_info": {
   "codemirror_mode": {
    "name": "ipython",
    "version": 3
   },
   "file_extension": ".py",
   "mimetype": "text/x-python",
   "name": "python",
   "nbconvert_exporter": "python",
   "pygments_lexer": "ipython3",
   "version": "3.11.5"
  }
 },
 "nbformat": 4,
 "nbformat_minor": 5
}
